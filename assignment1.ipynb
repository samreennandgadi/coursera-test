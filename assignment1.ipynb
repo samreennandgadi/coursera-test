{
  "nbformat": 4,
  "nbformat_minor": 0,
  "metadata": {
    "colab": {
      "provenance": [],
      "authorship_tag": "ABX9TyNJOPIb8pnmLZD1j1X25dHF",
      "include_colab_link": true
    },
    "kernelspec": {
      "name": "python3",
      "display_name": "Python 3"
    },
    "language_info": {
      "name": "python"
    }
  },
  "cells": [
    {
      "cell_type": "markdown",
      "metadata": {
        "id": "view-in-github",
        "colab_type": "text"
      },
      "source": [
        "<a href=\"https://colab.research.google.com/github/samreennandgadi/coursera-test/blob/master/assignment1.ipynb\" target=\"_parent\"><img src=\"https://colab.research.google.com/assets/colab-badge.svg\" alt=\"Open In Colab\"/></a>"
      ]
    },
    {
      "cell_type": "code",
      "execution_count": null,
      "metadata": {
        "id": "WzY8qEx7KIOt"
      },
      "outputs": [],
      "source": []
    },
    {
      "cell_type": "markdown",
      "source": [
        "variable casse sensitivity\n",
        "-python variables are case sensitive.\n",
        "-small case and upper case alphabets are different."
      ],
      "metadata": {
        "id": "_DB8xGLkKq24"
      }
    },
    {
      "cell_type": "code",
      "source": [
        "#Variable case sensitivity\n",
        "TAN=10\n",
        "Tan=20\n",
        "tan=30\n",
        "print(f\" {TAN}\") #TAN Tan and tan are different\n",
        "print(f\" {Tan}\")\n",
        "print(f\" {tan}\")"
      ],
      "metadata": {
        "colab": {
          "base_uri": "https://localhost:8080/"
        },
        "id": "Z0JuMm-SQ40g",
        "outputId": "deca7e6b-4461-4d3c-c4ed-ed32d42a1f99"
      },
      "execution_count": null,
      "outputs": [
        {
          "output_type": "stream",
          "name": "stdout",
          "text": [
            " 10\n",
            " 20\n",
            " 30\n"
          ]
        }
      ]
    },
    {
      "cell_type": "code",
      "source": [
        "print(f\" {TAn}\") #error due to case sensitivity"
      ],
      "metadata": {
        "colab": {
          "base_uri": "https://localhost:8080/",
          "height": 165
        },
        "id": "YCgr_f7FRrCd",
        "outputId": "35fd6b20-3737-4dcf-86be-d484f0f943fc"
      },
      "execution_count": null,
      "outputs": [
        {
          "output_type": "error",
          "ename": "NameError",
          "evalue": "ignored",
          "traceback": [
            "\u001b[0;31m---------------------------------------------------------------------------\u001b[0m",
            "\u001b[0;31mNameError\u001b[0m                                 Traceback (most recent call last)",
            "\u001b[0;32m<ipython-input-5-26af86b8e292>\u001b[0m in \u001b[0;36m<module>\u001b[0;34m\u001b[0m\n\u001b[0;32m----> 1\u001b[0;31m \u001b[0mprint\u001b[0m\u001b[0;34m(\u001b[0m\u001b[0;34mf\" {TAn}\"\u001b[0m\u001b[0;34m)\u001b[0m \u001b[0;31m#error due to case sensitivity\u001b[0m\u001b[0;34m\u001b[0m\u001b[0;34m\u001b[0m\u001b[0m\n\u001b[0m",
            "\u001b[0;31mNameError\u001b[0m: name 'TAn' is not defined"
          ]
        }
      ]
    },
    {
      "cell_type": "code",
      "source": [
        "name=\"Samreen\"\n",
        "Name=\"samreen\"\n",
        "print(f\" {Name}\")"
      ],
      "metadata": {
        "colab": {
          "base_uri": "https://localhost:8080/"
        },
        "id": "Lh4uQ6_BR-eX",
        "outputId": "c20a13bb-8542-4a73-cc26-52081d08d5e9"
      },
      "execution_count": null,
      "outputs": [
        {
          "output_type": "stream",
          "name": "stdout",
          "text": [
            " samreen\n"
          ]
        }
      ]
    },
    {
      "cell_type": "code",
      "source": [],
      "metadata": {
        "id": "Zt4qhBp_SRxd"
      },
      "execution_count": null,
      "outputs": []
    },
    {
      "cell_type": "markdown",
      "source": [],
      "metadata": {
        "id": "XdOdcNeOSzLv"
      }
    },
    {
      "cell_type": "code",
      "source": [],
      "metadata": {
        "id": "TZM10PoxToap"
      },
      "execution_count": null,
      "outputs": []
    },
    {
      "cell_type": "markdown",
      "source": [
        "2. Take input A and B and print their sum, mul, div, square of the nos.\n"
      ],
      "metadata": {
        "id": "Ica8ElqvTpIk"
      }
    },
    {
      "cell_type": "code",
      "source": [
        "a=int(input(\"enter value of A\"))\n",
        "b=int(input(\"enter value of B\"))\n",
        "print(f\"sum of a and b {a+b}\")\n",
        "print(f\"multiplication of a and b {a*b}\")\n",
        "print(f\"division of a and b {a/b}\")\n",
        "print(f\"square of a and b {a**b}\")"
      ],
      "metadata": {
        "id": "Mybw8lroTxGI"
      },
      "execution_count": null,
      "outputs": []
    },
    {
      "cell_type": "code",
      "source": [],
      "metadata": {
        "id": "eiOH5miEVAcL"
      },
      "execution_count": null,
      "outputs": []
    },
    {
      "cell_type": "markdown",
      "source": [
        "3. How many reserve keywords are there in python and why we should not use them as a variable name.\n",
        "python 3 have 33 keywords.\n",
        "1.print\n",
        "2.input\n",
        "3.type\n",
        "4.and\n",
        "5.or\n",
        "6.if\n",
        "7.elif\n",
        "8.not\n",
        "9.as\n",
        "10.pass\n",
        "11.lambda\n",
        "12.else\n",
        "13.continue\n",
        "14.break\n",
        "15.class\n",
        "16.True\n",
        "17.False\n",
        "18.while\n",
        "19.for\n",
        "20.import\n",
        "21.nonlocal\n",
        "22.try\n",
        "23.with \n",
        "24.yield\n",
        "25.return\n",
        "26.raise\n",
        "27.assert\n",
        "28.def\n",
        "29.del\n",
        "30.except\n",
        "31.finally\n",
        "32.global\n",
        "33.from\n",
        "33.in\n",
        "34.is\n",
        " python does not restrict the use of reserved words,but writing it as a variable name should be avoided."
      ],
      "metadata": {
        "id": "gWTzDzxTVPzR"
      }
    },
    {
      "cell_type": "markdown",
      "source": [
        "4. Create email ids with the user inputs. in the following format - \n",
        "lastname.firstname@gmail.com\n"
      ],
      "metadata": {
        "id": "Q9jFF70p0wdV"
      }
    },
    {
      "cell_type": "code",
      "source": [
        "firstname=input(\"name of user\")\n",
        "lastname=input(\"last name of the user\")\n",
        "print(f\"{lastname}.{firstname}@gmail.com\")"
      ],
      "metadata": {
        "colab": {
          "base_uri": "https://localhost:8080/"
        },
        "id": "rVGLBQFI00v7",
        "outputId": "5fd56fa5-bd25-4530-c6d2-f8493b2bce9f"
      },
      "execution_count": null,
      "outputs": [
        {
          "output_type": "stream",
          "name": "stdout",
          "text": [
            "name of usersamreen\n",
            "last name of the usernandgadi\n",
            "nandgadi.samreen@gmail.com\n"
          ]
        }
      ]
    },
    {
      "cell_type": "code",
      "source": [],
      "metadata": {
        "id": "lw2oE7oP56KJ"
      },
      "execution_count": null,
      "outputs": []
    },
    {
      "cell_type": "code",
      "source": [],
      "metadata": {
        "id": "Qf9qqaja0Jo8"
      },
      "execution_count": null,
      "outputs": []
    },
    {
      "cell_type": "markdown",
      "source": [
        "\n",
        "5. Try to print the following lines - \n",
        "  - Hi I'm Sunny\n",
        "  - My address is 22\\3 \n",
        "  - I earn 20$ daily.\n"
      ],
      "metadata": {
        "id": "TFhp5zJG0_iv"
      }
    },
    {
      "cell_type": "code",
      "source": [
        "print(\"Hi I'm Sunny\")\n",
        "print(\"My address is 22/\"\\\"/3\")\n",
        "print(\"I earn 20$ daily\")"
      ],
      "metadata": {
        "colab": {
          "base_uri": "https://localhost:8080/",
          "height": 130
        },
        "id": "PiCfn5_K1BPf",
        "outputId": "d0f7e730-b690-4ebe-f885-82c0b69e24e2"
      },
      "execution_count": null,
      "outputs": [
        {
          "output_type": "error",
          "ename": "SyntaxError",
          "evalue": "ignored",
          "traceback": [
            "\u001b[0;36m  File \u001b[0;32m\"<ipython-input-7-ba3e00eeaea6>\"\u001b[0;36m, line \u001b[0;32m2\u001b[0m\n\u001b[0;31m    print(\"My address is 22/\"\\\"/3\")\u001b[0m\n\u001b[0m                                   ^\u001b[0m\n\u001b[0;31mSyntaxError\u001b[0m\u001b[0;31m:\u001b[0m unexpected character after line continuation character\n"
          ]
        }
      ]
    },
    {
      "cell_type": "markdown",
      "source": [
        "6. Take user input (name, address, date of birth etc) to fill a form for your college and print their email IDs\n"
      ],
      "metadata": {
        "id": "XQwf4RNn1XWx"
      }
    },
    {
      "cell_type": "code",
      "source": [],
      "metadata": {
        "id": "x94-DMh81HcS"
      },
      "execution_count": null,
      "outputs": []
    },
    {
      "cell_type": "markdown",
      "source": [
        "7. Convert the following - \n",
        "  - \"22.4\" into integer\n",
        "  - \"22\" into complex no.\n"
      ],
      "metadata": {
        "id": "VlfoXOlr1Iqv"
      }
    },
    {
      "cell_type": "code",
      "source": [
        "a=22.4\n",
        "a=int(a)\n",
        "print(f\" {a}\")\n",
        "a=22\n",
        "a=complex(a)\n",
        "print(f\" {a}\")"
      ],
      "metadata": {
        "colab": {
          "base_uri": "https://localhost:8080/"
        },
        "id": "N06yRaYiVTPL",
        "outputId": "faf3c5fc-444a-4cac-dc3f-013a47b1f4b8"
      },
      "execution_count": null,
      "outputs": [
        {
          "output_type": "stream",
          "name": "stdout",
          "text": [
            " 22\n",
            " (22+0j)\n"
          ]
        }
      ]
    }
  ]
}